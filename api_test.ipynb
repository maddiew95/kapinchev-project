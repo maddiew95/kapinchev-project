{
 "cells": [
  {
   "cell_type": "code",
   "execution_count": 1,
   "metadata": {},
   "outputs": [],
   "source": [
    "from alpaca_sdk import *\n",
    "import seaborn as sns\n",
    "\n",
    "today = dt.now(tz=ny_eastern).date()\n",
    "# raw_bngo = stock_data('BNGO', today, 10)\n"
   ]
  },
  {
   "cell_type": "code",
   "execution_count": 2,
   "metadata": {},
   "outputs": [
    {
     "data": {
      "text/plain": [
       "712.37"
      ]
     },
     "execution_count": 2,
     "metadata": {},
     "output_type": "execute_result"
    }
   ],
   "source": [
    "# new_df = {**{\"timestamp\": dt.today().strftime(\"%Y-%m-%d %H:%M:%S\")}, **new_data(\"bngo\")}\n",
    "buy_power()"
   ]
  },
  {
   "cell_type": "code",
   "execution_count": 3,
   "metadata": {},
   "outputs": [],
   "source": [
    "# money = 100\n",
    "# n = 0\n",
    "# buy_signal = False\n",
    "# assets = []\n",
    "# number = []\n",
    "# total = []\n",
    "# money_hist = []\n",
    "\n",
    "# for i in range(len(raw_bngo)):\n",
    "#     logic_buy = raw_bngo['smaLow'].iloc[i] > raw_bngo['smaHigh'].iloc[i] and raw_bngo['rsi'].iloc[i] < 40 and raw_bngo['so'].iloc[i] < 30\n",
    "#     logic_sell = raw_bngo['smaLow'].iloc[i] < raw_bngo['smaHigh'].iloc[i] and raw_bngo['rsi'].iloc[i] > 60  and raw_bngo['so'].iloc[i] > 70\n",
    "    \n",
    "#     if logic_buy and not buy_signal:\n",
    "#         buy_signal = True\n",
    "#         n = int(money / raw_bngo['close'].iloc[i])\n",
    "#         asset = raw_bngo['close'].iloc[i] * n\n",
    "#         money -= asset\n",
    "        \n",
    "#     elif logic_sell and buy_signal:\n",
    "#         buy_signal = False\n",
    "#         money += raw_bngo['close'].iloc[i] * n\n",
    "#         raw_bngo['total'] = money + asset\n",
    "#         asset = 0\n",
    "#         n = 0\n",
    "\n",
    "#     money_hist.append(money)\n",
    "#     assets.append(raw_bngo['close'].iloc[i] * n)\n",
    "#     number.append(n)\n",
    "#     total.append(raw_bngo['close'].iloc[i] * n + money)\n",
    "\n",
    "# raw_bngo['money'] = money_hist\n",
    "# raw_bngo['asset'] = assets\n",
    "# raw_bngo['number'] = number\n",
    "# raw_bngo['total'] = total"
   ]
  },
  {
   "cell_type": "code",
   "execution_count": 4,
   "metadata": {},
   "outputs": [],
   "source": [
    "# import plotly.graph_objects as go\n",
    "# fig = go.Figure()\n",
    "\n",
    "# fig.add_trace(go.Scatter(x=raw_bngo['timestamp'], y=raw_bngo['close'], mode='lines', name='Close'))\n",
    "# fig.add_trace(go.Scatter(x=raw_bngo['timestamp'], y=raw_bngo['smaLow'], mode='lines', name='sma low'))\n",
    "# fig.add_trace(go.Scatter(x=raw_bngo['timestamp'], y=raw_bngo['smaHigh'], mode='lines', name='sma high'))\n",
    "# fig.show()\n"
   ]
  },
  {
   "cell_type": "code",
   "execution_count": 5,
   "metadata": {},
   "outputs": [],
   "source": [
    "# fig = go.Figure()\n",
    "\n",
    "# fig.add_trace(go.Scatter(x=raw_bngo['timestamp'], y=raw_bngo['total'], mode='lines', name='Close'))\n",
    "# fig.show()"
   ]
  }
 ],
 "metadata": {
  "kernelspec": {
   "display_name": "alpaca-paper1",
   "language": "python",
   "name": "python3"
  },
  "language_info": {
   "codemirror_mode": {
    "name": "ipython",
    "version": 3
   },
   "file_extension": ".py",
   "mimetype": "text/x-python",
   "name": "python",
   "nbconvert_exporter": "python",
   "pygments_lexer": "ipython3",
   "version": "3.10.16"
  }
 },
 "nbformat": 4,
 "nbformat_minor": 2
}
